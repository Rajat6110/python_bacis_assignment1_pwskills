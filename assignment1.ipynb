{
 "cells": [
  {
   "cell_type": "markdown",
   "id": "e5430b54-9538-4bc3-9d80-f23f7ee82d8f",
   "metadata": {},
   "source": [
    "Question 1 :"
   ]
  },
  {
   "cell_type": "code",
   "execution_count": 1,
   "id": "bf2934f8-46d1-4c47-b256-4b08e98f6900",
   "metadata": {},
   "outputs": [],
   "source": [
    "\n",
    "#**Explain the key features of Python that make it a popular choice for programming**\n",
    "#  ANS -\n",
    " \n",
    "#  Python is the most popular language in the world currently , nowdays everyone's first choice is python language.\n",
    " \n",
    "#  >>Python is a popular programming language due to several key features:\n",
    " \n",
    "#  1 ) easy syntax - as compared to other langauges , python provides easy and simple syntax.Anyone can learn to code in Python in just few days.\n",
    "  \n",
    "# 2) Object-Oriented Language - python is a Object-Oriented Language ,it supports object-oriented language and concepts of classes, object encapsulation, polymorphism , abstraction  etc. \n",
    " \n",
    "# 3 ) Portable Language - Python language is  a portable language, which means it can run programs from any system , basically it does not depend on any particular os.\n",
    "\n",
    "# 4 ) Huge number of libraies - Python has a large standard library that provides a rich set of modules and functions , like - matplotlib , numpy , pandas , scikit learn \n",
    "\n",
    "# 5 ) Dynamic Typing - Python uses dynamic typing, which means that variable types are determined at runtime.\n",
    "\n",
    "# 6 ) Interpreted Language -  Python is an interpreted language, which means that code is executed line by line.\n"
   ]
  },
  {
   "cell_type": "markdown",
   "id": "636b3190-ee44-40f4-abe0-fd4de0f38c7c",
   "metadata": {},
   "source": [
    "Question 2 :"
   ]
  },
  {
   "cell_type": "code",
   "execution_count": 2,
   "id": "404a42ac-901a-4950-9625-c098374b174d",
   "metadata": {
    "tags": []
   },
   "outputs": [],
   "source": [
    "#  - Describe the role of predefined keywords in Python and provide examples of how they are used in a\n",
    "# program.\n",
    "\n",
    "#  Ans - Predefined keywords in Python are special words that are reserved by the language and have a specific meaning.\n",
    "#        you cannot use these keywords as name of variable , class or function \n",
    "\n",
    "# here are all  36  python keywords -\n",
    "\n"
   ]
  },
  {
   "cell_type": "code",
   "execution_count": 3,
   "id": "e95b3542-6761-4276-b8cb-b104aada88a2",
   "metadata": {},
   "outputs": [
    {
     "name": "stdout",
     "output_type": "stream",
     "text": [
      "\n",
      "Here is a list of the Python keywords.  Enter any keyword to get more help.\n",
      "\n",
      "False               class               from                or\n",
      "None                continue            global              pass\n",
      "True                def                 if                  raise\n",
      "and                 del                 import              return\n",
      "as                  elif                in                  try\n",
      "assert              else                is                  while\n",
      "async               except              lambda              with\n",
      "await               finally             nonlocal            yield\n",
      "break               for                 not                 \n",
      "\n"
     ]
    }
   ],
   "source": [
    "help(\"keywords\")"
   ]
  },
  {
   "cell_type": "code",
   "execution_count": 4,
   "id": "008998ef-263e-433d-9ce2-cc23db171a1a",
   "metadata": {},
   "outputs": [
    {
     "name": "stdout",
     "output_type": "stream",
     "text": [
      "a is greater than 4\n"
     ]
    }
   ],
   "source": [
    "#example of keyword \n",
    "a = 5\n",
    "if a > 4:\n",
    "    print(\"a is greater than 4\")"
   ]
  },
  {
   "cell_type": "code",
   "execution_count": 5,
   "id": "844f8442-e03e-4b42-8b3c-5c1f52c91369",
   "metadata": {},
   "outputs": [],
   "source": [
    "# #here \n",
    "# if , print are keywords"
   ]
  },
  {
   "cell_type": "markdown",
   "id": "fe6a14cb-bc05-446e-b483-b3900b992db6",
   "metadata": {},
   "source": [
    "Question 3 :\n",
    "    "
   ]
  },
  {
   "cell_type": "code",
   "execution_count": 6,
   "id": "79ad6784-062b-44d6-abaf-e2654140f024",
   "metadata": {},
   "outputs": [],
   "source": [
    "#- Compare and contrast mutable and immutable objects in Python with examples"
   ]
  },
  {
   "cell_type": "code",
   "execution_count": 7,
   "id": "b2ff6739-5581-4cb8-9e9e-6057cf1709d3",
   "metadata": {},
   "outputs": [],
   "source": [
    "# THERE are two types of objects in python mutable and immutable objects\n",
    " \n",
    "#   1)  Mutable object - Mutable objects can be changed after they are created.\n",
    "#     it means you can modify the contents of the object without creating a new object. \n",
    "#     examples - list , dict(key value pair , sets etc.\n",
    "    \n",
    "    \n",
    "#     2 ) immutable objects- mmutable objects cannot be changed after they are created.\n",
    "#     it means Any modification to an immutable object results in the creation of a new object\n",
    "#     eg - strings ,tuples , numbers \n",
    "    \n"
   ]
  },
  {
   "cell_type": "code",
   "execution_count": 8,
   "id": "2ba200e2-73d2-451d-bbbb-9d34bc4f8f24",
   "metadata": {},
   "outputs": [
    {
     "name": "stdout",
     "output_type": "stream",
     "text": [
      "[1, 2, 3, 100, 5]\n"
     ]
    }
   ],
   "source": [
    " # example of mutable object , we can change value of list1\n",
    "list1 = [ 1,2,3,4,5]\n",
    "list1[3] = 100\n",
    "print(list1)"
   ]
  },
  {
   "cell_type": "code",
   "execution_count": 9,
   "id": "bc6ad067-b435-4f0a-b100-136eeaacef09",
   "metadata": {},
   "outputs": [
    {
     "data": {
      "text/plain": [
       "'amitesh'"
      ]
     },
     "execution_count": 9,
     "metadata": {},
     "output_type": "execute_result"
    }
   ],
   "source": [
    " # example of immutable object \n",
    "a = \"amitesh\"\n",
    "a"
   ]
  },
  {
   "cell_type": "code",
   "execution_count": 10,
   "id": "0c1502f5-0bb4-4c36-b16c-76a47cd0bafd",
   "metadata": {},
   "outputs": [
    {
     "ename": "TypeError",
     "evalue": "'str' object does not support item assignment",
     "output_type": "error",
     "traceback": [
      "\u001b[0;31m---------------------------------------------------------------------------\u001b[0m",
      "\u001b[0;31mTypeError\u001b[0m                                 Traceback (most recent call last)",
      "Cell \u001b[0;32mIn[10], line 1\u001b[0m\n\u001b[0;32m----> 1\u001b[0m \u001b[43ma\u001b[49m\u001b[43m[\u001b[49m\u001b[38;5;241;43m2\u001b[39;49m\u001b[43m]\u001b[49m \u001b[38;5;241m=\u001b[39m \u001b[38;5;124m\"\u001b[39m\u001b[38;5;124maa\u001b[39m\u001b[38;5;124m\"\u001b[39m \u001b[38;5;66;03m#here this will cause an error bcz we can't change string object after creation.\u001b[39;00m\n",
      "\u001b[0;31mTypeError\u001b[0m: 'str' object does not support item assignment"
     ]
    }
   ],
   "source": [
    "a[2] = \"aa\" #here this will cause an error bcz we can't change string object after creation."
   ]
  },
  {
   "cell_type": "markdown",
   "id": "802e6e69-cbce-4f52-81dc-7c38a222750f",
   "metadata": {},
   "source": [
    "Question 4"
   ]
  },
  {
   "cell_type": "code",
   "execution_count": null,
   "id": "3c2b3677-d161-4c7a-8596-c2e4f226d392",
   "metadata": {},
   "outputs": [],
   "source": [
    "#Discuss the different types of operators in Python and provide examples of how they are used-"
   ]
  },
  {
   "cell_type": "code",
   "execution_count": null,
   "id": "2a90bec4-662c-451f-b51e-5dae4cd56472",
   "metadata": {},
   "outputs": [],
   "source": [
    "#  Ans - \n",
    "#     operators are special symbols that perform operations on variables and values, \n",
    "#     here symbol called operator and the variables called operands.\n",
    "    \n",
    "#     TYPE OF operators in python _\n",
    "# 1)Arithmetic Operators.(+,-,%,/,*)\n",
    "# 2)Comparison (Relational) Operators. ( ==, <= ,>= , !=)\n",
    "# 3)Assignment Operators. ( = , += , -+)\n",
    "# 4)Logical Operators. (and , or , not)\n",
    "# 5)Bitwise Operators. ( & , | , ~)\n",
    "# 6)Membership Operators.( in , not in )\n",
    "# 7)Identity Operators. ( is  , not is )"
   ]
  },
  {
   "cell_type": "code",
   "execution_count": 14,
   "id": "a627c992-609c-46a2-8b24-282d14d190d7",
   "metadata": {},
   "outputs": [
    {
     "name": "stdout",
     "output_type": "stream",
     "text": [
      "12\n",
      "7\n"
     ]
    }
   ],
   "source": [
    "#arthmetic\n",
    "a = 3 \n",
    "b = 4\n",
    "print(a*b)\n",
    "print(a+b)\n"
   ]
  },
  {
   "cell_type": "code",
   "execution_count": 15,
   "id": "1dfc421b-167f-43f9-8905-855ba845012a",
   "metadata": {},
   "outputs": [
    {
     "name": "stdout",
     "output_type": "stream",
     "text": [
      "a is 5\n"
     ]
    }
   ],
   "source": [
    "#comparsion \n",
    "a = 5 \n",
    "if a == 5:\n",
    "    print(\"a is 5\")"
   ]
  },
  {
   "cell_type": "code",
   "execution_count": 16,
   "id": "6d7c595c-e0f2-4fcc-b0cc-f5dbd92ce7a7",
   "metadata": {},
   "outputs": [
    {
     "name": "stdout",
     "output_type": "stream",
     "text": [
      "1\n",
      "2\n",
      "3\n",
      "4\n",
      "5\n",
      "6\n",
      "7\n"
     ]
    }
   ],
   "source": [
    "# assignmnet \n",
    "n= 7 \n",
    "i = 1 \n",
    "while i <= n: \n",
    "    print(i)\n",
    "    i +=1 #assignmnet "
   ]
  },
  {
   "cell_type": "code",
   "execution_count": 17,
   "id": "754c8a69-d159-4fcd-9efe-7ad16a3ba17b",
   "metadata": {},
   "outputs": [
    {
     "name": "stdout",
     "output_type": "stream",
     "text": [
      "4\n",
      "7\n"
     ]
    }
   ],
   "source": [
    "#bitwie \n",
    "a = 5 \n",
    "b = 6 \n",
    "print(a&b) \n",
    "print( a | b)"
   ]
  },
  {
   "cell_type": "code",
   "execution_count": 18,
   "id": "b037c451-ed8b-4059-80ce-4a2a33f91bc2",
   "metadata": {},
   "outputs": [
    {
     "data": {
      "text/plain": [
       "320"
      ]
     },
     "execution_count": 18,
     "metadata": {},
     "output_type": "execute_result"
    }
   ],
   "source": [
    "a<<b\n"
   ]
  },
  {
   "cell_type": "code",
   "execution_count": 19,
   "id": "c7ed1b9c-ef08-4cd2-8062-6c5cd0b1b3c7",
   "metadata": {},
   "outputs": [
    {
     "data": {
      "text/plain": [
       "True"
      ]
     },
     "execution_count": 19,
     "metadata": {},
     "output_type": "execute_result"
    }
   ],
   "source": [
    "#membership \n",
    "a = \" amitesh\"\n",
    "\"a\" in a"
   ]
  },
  {
   "cell_type": "code",
   "execution_count": 20,
   "id": "e7c45ff7-9408-4e23-84ca-63d39f661dcd",
   "metadata": {},
   "outputs": [
    {
     "data": {
      "text/plain": [
       "False"
      ]
     },
     "execution_count": 20,
     "metadata": {},
     "output_type": "execute_result"
    }
   ],
   "source": [
    "\n",
    "# logical\n",
    "True and False"
   ]
  },
  {
   "cell_type": "code",
   "execution_count": 21,
   "id": "319d17e7-8580-4145-a4c2-10281e546603",
   "metadata": {},
   "outputs": [
    {
     "data": {
      "text/plain": [
       "True"
      ]
     },
     "execution_count": 21,
     "metadata": {},
     "output_type": "execute_result"
    }
   ],
   "source": [
    " False or True "
   ]
  },
  {
   "cell_type": "code",
   "execution_count": 22,
   "id": "8990c254-f3c9-401f-a798-eace25325e7f",
   "metadata": {},
   "outputs": [
    {
     "data": {
      "text/plain": [
       "False"
      ]
     },
     "execution_count": 22,
     "metadata": {},
     "output_type": "execute_result"
    }
   ],
   "source": [
    " # identity \n",
    "a = 2\n",
    "b = 3\n",
    "a is b"
   ]
  },
  {
   "cell_type": "markdown",
   "id": "9f1bee20-9ed4-4f8d-b627-2413fe126f46",
   "metadata": {},
   "source": [
    "Question 5 :"
   ]
  },
  {
   "cell_type": "code",
   "execution_count": 23,
   "id": "11a1cd25-d9f0-4e8e-a196-33d1678b096f",
   "metadata": {},
   "outputs": [],
   "source": [
    "# Explain the concept of type casting in Python with examples\n",
    "\n",
    "# -\n",
    "\n",
    "# type casting - Type casting in Python refers to the conversion of one data type into another\n",
    "#      thier are two types casting in python \n",
    "#  1 ) IMPLICIT - python understand the datatype so it will be automatically done by python\n",
    "# 2 ) EXPLICIT - convert data type using inbulit function\n",
    "\n",
    "     "
   ]
  },
  {
   "cell_type": "code",
   "execution_count": 24,
   "id": "c9c09ad1-36b8-4cd4-83bc-f1944334d548",
   "metadata": {},
   "outputs": [
    {
     "data": {
      "text/plain": [
       "int"
      ]
     },
     "execution_count": 24,
     "metadata": {},
     "output_type": "execute_result"
    }
   ],
   "source": [
    "a =  2\n",
    "type(a)\n"
   ]
  },
  {
   "cell_type": "code",
   "execution_count": 25,
   "id": "d2f7e108-3c14-431a-8a03-71eed9605565",
   "metadata": {},
   "outputs": [
    {
     "data": {
      "text/plain": [
       "'2'"
      ]
     },
     "execution_count": 25,
     "metadata": {},
     "output_type": "execute_result"
    }
   ],
   "source": [
    "str(a)\n"
   ]
  },
  {
   "cell_type": "code",
   "execution_count": 26,
   "id": "7c43682d-1c0d-4c3d-adbb-098a40d6426c",
   "metadata": {},
   "outputs": [
    {
     "data": {
      "text/plain": [
       "str"
      ]
     },
     "execution_count": 26,
     "metadata": {},
     "output_type": "execute_result"
    }
   ],
   "source": [
    "type(str(a))"
   ]
  },
  {
   "cell_type": "code",
   "execution_count": 27,
   "id": "bdfe4195-7f7a-4bb2-9af9-af38bd00f605",
   "metadata": {},
   "outputs": [
    {
     "data": {
      "text/plain": [
       "int"
      ]
     },
     "execution_count": 27,
     "metadata": {},
     "output_type": "execute_result"
    }
   ],
   "source": [
    "b = 5.99\n",
    "type(b)\n",
    "float_value =int(b)\n",
    "type(float_value)"
   ]
  },
  {
   "cell_type": "code",
   "execution_count": 12,
   "id": "0514c614-6c37-4f62-96f7-d24906c0d5e9",
   "metadata": {},
   "outputs": [
    {
     "data": {
      "text/plain": [
       "6"
      ]
     },
     "execution_count": 12,
     "metadata": {},
     "output_type": "execute_result"
    }
   ],
   "source": [
    "a = \"3\"\n",
    "b = 3\n",
    "\n",
    "int(a) +  b"
   ]
  },
  {
   "cell_type": "markdown",
   "id": "22df9db3-36f3-4a30-9e8b-95b8e0939437",
   "metadata": {},
   "source": [
    "Question 6 : "
   ]
  },
  {
   "cell_type": "code",
   "execution_count": 28,
   "id": "4804252d-e9cd-48be-ac31-78c9800f781c",
   "metadata": {},
   "outputs": [],
   "source": [
    "# How do conditional statements work in Python? Illustrate with examples\n",
    "\n",
    "\n",
    "# ans - Conditional Statements are statements in Python that provide a choice for the control flow based on a condition. It means that the control flow of the Python program will be decided based on the outcome of the condition.\n",
    "\n",
    "# CONDITONAL STATEMENT - \n",
    "# Helps you to code decisions based on some preconditions \n",
    "# if\n",
    "# if-else\n",
    "# if elif\n",
    "# nested if else"
   ]
  },
  {
   "cell_type": "code",
   "execution_count": 29,
   "id": "5b68562c-7cb1-42fe-be37-6990c3e58fd0",
   "metadata": {},
   "outputs": [
    {
     "name": "stdout",
     "output_type": "stream",
     "text": [
      "will not play cricket\n"
     ]
    }
   ],
   "source": [
    "weather = \"rainy\"\n",
    "if weather == \"rainy\":\n",
    "    print(\"will not play cricket\")\n",
    "else : \n",
    "    print(\"warna khel lena cricket\")"
   ]
  },
  {
   "cell_type": "code",
   "execution_count": 30,
   "id": "a45da2c7-29fb-4ca2-8a42-e199dcddcf7c",
   "metadata": {},
   "outputs": [
    {
     "name": "stdin",
     "output_type": "stream",
     "text": [
      "Enter your score 77\n"
     ]
    },
    {
     "name": "stdout",
     "output_type": "stream",
     "text": [
      "Grade C, avg banke hi rehna hai ?\n"
     ]
    }
   ],
   "source": [
    "score = int(input(\"Enter your score\"))\n",
    "if score >= 90:\n",
    "    print(\"grade A , waah topper hai re tu\")\n",
    "elif (80<= score < 90):\n",
    "    print(\"Grade B ,theek hi hai yarr\")\n",
    "elif (70<= score < 80):\n",
    "    print(\"Grade C, avg banke hi rehna hai ?\")\n",
    "elif (60<= score < 70):\n",
    "    print(\"Grade D , chi bhai yrr\")\n",
    "else:\n",
    "    print(\"FAIL hogya tu lol\")"
   ]
  },
  {
   "cell_type": "code",
   "execution_count": 31,
   "id": "8a84522a-8571-4519-9150-432165a7a6fb",
   "metadata": {},
   "outputs": [
    {
     "name": "stdin",
     "output_type": "stream",
     "text": [
      "age daal 67\n"
     ]
    },
    {
     "name": "stdout",
     "output_type": "stream",
     "text": [
      "you are vip and senior citizen and your age is  67\n"
     ]
    }
   ],
   "source": [
    "is_vip = True\n",
    "age = int(input(\"age daal\"))\n",
    "if is_vip:\n",
    "    if age>=18:\n",
    "        if age < 65:\n",
    "            print(\"you're vip\")\n",
    "        else:\n",
    "            print(\"you are vip and senior citizen and your age is \" , age)\n",
    "    else:\n",
    "        print(\"vip status is only for adult\")\n",
    "else:\n",
    "    print(\" no VIP \")"
   ]
  },
  {
   "cell_type": "markdown",
   "id": "e304eda6-841d-4ab3-b0c5-9f7a5a3f1206",
   "metadata": {},
   "source": [
    "Question 7:\n",
    "    "
   ]
  },
  {
   "cell_type": "code",
   "execution_count": 32,
   "id": "7b6e48f2-83af-4a01-b41a-18acaa706b2b",
   "metadata": {},
   "outputs": [],
   "source": [
    "# Describe the different types of loops in Python and their use cases with examples.\n",
    "\n",
    "# loops are used to execute a block of code repeatedly as long as a specified condition is met\n",
    "# #LOOPS\n",
    "# #IT ALLOWS YOU TO EXECUTE A BLOCK OF CODE REPEATEDLY\n",
    "# #TYPES OF LOOPS- \n",
    "# #WHILE AND FOR \n"
   ]
  },
  {
   "cell_type": "code",
   "execution_count": 33,
   "id": "f4f88b9f-b136-4bfd-8154-38a5b3f253f7",
   "metadata": {},
   "outputs": [
    {
     "name": "stdout",
     "output_type": "stream",
     "text": [
      "1\n",
      "2\n",
      "3\n",
      "4\n",
      "5\n",
      "6\n"
     ]
    }
   ],
   "source": [
    "n = 7\n",
    "i = 1\n",
    "while i < n:\n",
    "    print(i)\n",
    "    i = i+1"
   ]
  },
  {
   "cell_type": "code",
   "execution_count": 34,
   "id": "9fa22f5c-862b-4585-b44b-846d69ff458a",
   "metadata": {},
   "outputs": [
    {
     "name": "stdout",
     "output_type": "stream",
     "text": [
      "0\n",
      "1\n",
      "2\n",
      "3\n",
      "4\n",
      "5\n",
      "6\n",
      "7\n",
      "8\n",
      "9\n"
     ]
    }
   ],
   "source": [
    "for i in range(10):\n",
    "    print(i)"
   ]
  },
  {
   "cell_type": "code",
   "execution_count": 35,
   "id": "d02f668f-4642-471b-be19-32d0f7bd169f",
   "metadata": {},
   "outputs": [
    {
     "name": "stdout",
     "output_type": "stream",
     "text": [
      "*\n",
      "**\n",
      "***\n",
      "****\n",
      "*****\n"
     ]
    }
   ],
   "source": [
    "for i in range(0,5):\n",
    "    for j in range(i+1):\n",
    "        print(\"*\" , end = \"\")\n",
    "    print()\n",
    "    "
   ]
  },
  {
   "cell_type": "code",
   "execution_count": 36,
   "id": "3c673379-3ff7-4a14-b33a-39660761f249",
   "metadata": {},
   "outputs": [
    {
     "name": "stdout",
     "output_type": "stream",
     "text": [
      "2 * 1 =  2\n",
      "2 * 2 =  4\n",
      "2 * 3 =  6\n",
      "2 * 4 =  8\n",
      "2 * 5 =  10\n",
      "2 * 6 =  12\n",
      "2 * 7 =  14\n",
      "2 * 8 =  16\n",
      "2 * 9 =  18\n",
      "2 * 10 =  20\n",
      "\n",
      "3 * 1 =  3\n",
      "3 * 2 =  6\n",
      "3 * 3 =  9\n",
      "3 * 4 =  12\n",
      "3 * 5 =  15\n",
      "3 * 6 =  18\n",
      "3 * 7 =  21\n",
      "3 * 8 =  24\n",
      "3 * 9 =  27\n",
      "3 * 10 =  30\n",
      "\n"
     ]
    }
   ],
   "source": [
    "#table\n",
    "for i in range (2,4):\n",
    "    for j in range(1,11):\n",
    "        product = i * j\n",
    "        print( f\"{i} * {j} =  {product}\")\n",
    "    print()"
   ]
  },
  {
   "cell_type": "code",
   "execution_count": null,
   "id": "7dd23b47-c8e9-4a74-b016-b2500a508498",
   "metadata": {},
   "outputs": [],
   "source": []
  }
 ],
 "metadata": {
  "kernelspec": {
   "display_name": "Python 3 (ipykernel)",
   "language": "python",
   "name": "python3"
  },
  "language_info": {
   "codemirror_mode": {
    "name": "ipython",
    "version": 3
   },
   "file_extension": ".py",
   "mimetype": "text/x-python",
   "name": "python",
   "nbconvert_exporter": "python",
   "pygments_lexer": "ipython3",
   "version": "3.10.8"
  }
 },
 "nbformat": 4,
 "nbformat_minor": 5
}
